{
 "cells": [
  {
   "cell_type": "code",
   "execution_count": null,
   "metadata": {},
   "outputs": [],
   "source": [
    "a= 10\n",
    "print(a,\"data type:\", type(a))\n",
    "a = 10.09\n",
    "print(a,\"data type:\", type(a))\n",
    "a = \"Saksham\"\n",
    "print(a,\"data type:\", type(a))"
   ]
  },
  {
   "cell_type": "code",
   "execution_count": 11,
   "metadata": {},
   "outputs": [
    {
     "ename": "IndentationError",
     "evalue": "expected an indented block after 'if' statement on line 3 (3892913405.py, line 4)",
     "output_type": "error",
     "traceback": [
      "\u001b[1;36m  Cell \u001b[1;32mIn[11], line 4\u001b[1;36m\u001b[0m\n\u001b[1;33m    print (\"a is greater\")\u001b[0m\n\u001b[1;37m    ^\u001b[0m\n\u001b[1;31mIndentationError\u001b[0m\u001b[1;31m:\u001b[0m expected an indented block after 'if' statement on line 3\n"
     ]
    }
   ],
   "source": [
    "#if else indentation \n",
    "a=10\n",
    "b=20\n",
    "if (a<b) :\n",
    " print (\"a is greater\")\n",
    " print (\"if block\")\n",
    "else :\n",
    " print (\"b is greater\")\n",
    " print (\"outside if\")"
   ]
  },
  {
   "cell_type": "code",
   "execution_count": 13,
   "metadata": {},
   "outputs": [
    {
     "name": "stdout",
     "output_type": "stream",
     "text": [
      "1.0\n",
      "1\n",
      "4\n",
      "8\n"
     ]
    }
   ],
   "source": [
    "# // floor division\n",
    "# // exponent\n",
    "\n",
    "print(1/1)\n",
    "print(1//1)\n",
    "\n",
    "\n",
    "print (2*2)\n",
    "print (2**3)"
   ]
  }
 ],
 "metadata": {
  "kernelspec": {
   "display_name": "Python 3",
   "language": "python",
   "name": "python3"
  },
  "language_info": {
   "codemirror_mode": {
    "name": "ipython",
    "version": 3
   },
   "file_extension": ".py",
   "mimetype": "text/x-python",
   "name": "python",
   "nbconvert_exporter": "python",
   "pygments_lexer": "ipython3",
   "version": "3.12.3"
  }
 },
 "nbformat": 4,
 "nbformat_minor": 2
}
